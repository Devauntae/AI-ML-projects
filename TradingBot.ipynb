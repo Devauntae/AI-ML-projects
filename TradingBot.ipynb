{
  "nbformat": 4,
  "nbformat_minor": 0,
  "metadata": {
    "colab": {
      "provenance": [],
      "authorship_tag": "ABX9TyNS9tYpYhs0bfrrh/Gk30tB",
      "include_colab_link": true
    },
    "kernelspec": {
      "name": "python3",
      "display_name": "Python 3"
    },
    "language_info": {
      "name": "python"
    }
  },
  "cells": [
    {
      "cell_type": "markdown",
      "metadata": {
        "id": "view-in-github",
        "colab_type": "text"
      },
      "source": [
        "<a href=\"https://colab.research.google.com/github/Devauntae/AI-ML-projects/blob/tradingBOT/TradingBot.ipynb\" target=\"_parent\"><img src=\"https://colab.research.google.com/assets/colab-badge.svg\" alt=\"Open In Colab\"/></a>"
      ]
    },
    {
      "cell_type": "code",
      "execution_count": null,
      "metadata": {
        "id": "nEGtFRFARf90",
        "collapsed": true
      },
      "outputs": [],
      "source": [
        "!pip install --upgrade pip\n",
        "!pip install lumibot==2.9.13 --force-reinstall\n",
        "!pip install pandas==2.2.2 scipy>=1.11.2 --force-reinstall"
      ]
    },
    {
      "cell_type": "code",
      "source": [
        "from lumibot.brokers import Alpaca\n",
        "from lumibot.backtesting import YahooDataBacktesting\n",
        "from lumibot.strategies.strategy import Strategy\n",
        "from lumibot.traders import trader\n",
        "from datetime import datetime\n",
        "from alpaca_trade_api.rest import REST\n",
        "from timedelta import timedelta"
      ],
      "metadata": {
        "id": "TXOPuCjAR5w1"
      },
      "execution_count": null,
      "outputs": []
    },
    {
      "cell_type": "code",
      "source": [
        "API_KEY = \"PKB9JQZLXJB7D3N4I2D9\"\n",
        "API_SECRET = \"kbN1CQwZssOQOnkEq55UshrHvgDzMxKff9ZvQCwI\"\n",
        "BASE_URL = \"https://paper-api.alpaca.markets/v2\"\n",
        "\n",
        "ALPACA_CREDS = {\n",
        "    \"API_KEY\":API_KEY,\n",
        "    \"API_SECRET\":API_SECRET,\n",
        "    \"PAPER\": True\n",
        "}"
      ],
      "metadata": {
        "id": "4V2kSygnSQqZ"
      },
      "execution_count": null,
      "outputs": []
    },
    {
      "cell_type": "code",
      "source": [
        "class MLTrader(Strategy):\n",
        "  def initialize(self, symbol:str=\"SPY\", cash_at_risk:float=.5):\n",
        "    self.symbol = symbol\n",
        "    self.sleeptime = \"24H\"\n",
        "    self.last_trade = None\n",
        "    self.cash_at_risk = cash_at_risk\n",
        "    self.api = REST(key_id=API_KEY, secret_key=API_SECRET, base_url=BASE_URL)\n",
        "\n",
        "  def position_sizing(self):\n",
        "      cash = self.get_cash()\n",
        "      last_price = self.get_last_price(self.symbol)\n",
        "      quantity = round(cash * self.cash_at_risk / last_price,0)\n",
        "      return cash, last_price, quantity\n",
        "\n",
        "  def get_dates(self):\n",
        "    today = self.get_datetime()\n",
        "    three_days_prior = today - timedelta(days=3)\n",
        "    return today.strfttime('%Y-%m-%d'), three_days_prior.strfttime('%Y-%m-%d')\n",
        "\n",
        "  def get_news(self):\n",
        "    today, three_days_prior = self.get_dates()\n",
        "    news = self.api.get_news(symbool=self.symbol,\n",
        "                             start=three_days_prior,\n",
        "                             end=today)\n",
        "    news = [ev.__dict__[\"_raw\"][\"headline\"] for ev in news]\n",
        "    return news\n",
        "\n",
        "\n",
        "  def on_trading_iteration(self):\n",
        "    cash, last_price, quantity = self.position_sizing()\n",
        "\n",
        "    if cash > last_price:\n",
        "      if self.last_trade == None:\n",
        "        news = self.get_news()\n",
        "        print(news)\n",
        "        order = self.create_order(\n",
        "            self.symbol,\n",
        "            quantity,\n",
        "            \"buy\",\n",
        "            type = \"bracket\",\n",
        "            take_profit_price = last_price*1.20,\n",
        "            stop_loss_price = last_price*.95\n",
        "        )\n",
        "        self.submit_order(order)\n",
        "        self.last_trade = \"buy\"\n",
        "\n",
        "\n",
        "start_date = datetime(2025,2,1)\n",
        "end_date = datetime(2025,3,1)\n",
        "\n",
        "broker = Alpaca(ALPACA_CREDS)\n",
        "strategy = MLTrader(name ='mlstrat', broker=broker, parameters={\"symbol\":\"SPY\",\"cash_at_risk\":.5})\n",
        "strategy.backtest(\n",
        "    YahooDataBacktesting,\n",
        "    start_date,\n",
        "    end_date,\n",
        "    parameters={\"symbol\":\"SPY\",\"cash_at_risk\":.5}\n",
        ")\n"
      ],
      "metadata": {
        "colab": {
          "base_uri": "https://localhost:8080/"
        },
        "id": "xZRAEx3TSU6u",
        "outputId": "ecac6415-e706-439d-8405-5bf8f74bbfb9",
        "collapsed": true
      },
      "execution_count": null,
      "outputs": [
        {
          "output_type": "stream",
          "name": "stderr",
          "text": [
            "ERROR:root:Error getting the risk free rate: Too Many Requests. Rate limited. Try after a while.\n",
            "WARNING:tzlocal:/etc/timezone is deprecated on Debian, and no longer reliable. Ignoring.\n"
          ]
        },
        {
          "output_type": "stream",
          "name": "stdout",
          "text": [
            "Starting backtest for MLTrader...\n"
          ]
        },
        {
          "output_type": "stream",
          "name": "stderr",
          "text": [
            "ERROR:root:Error getting the risk free rate: Too Many Requests. Rate limited. Try after a while.\n",
            "INFO:backtest_stats:Starting backtest...\n"
          ]
        },
        {
          "output_type": "stream",
          "name": "stdout",
          "text": [
            "Progress ||   8.56%  [Elapsed: 0:00:01 ETA: 0:00:18] "
          ]
        },
        {
          "output_type": "stream",
          "name": "stderr",
          "text": [
            "\n",
            "PYDEV DEBUGGER WARNING:\n",
            "sys.settrace() should not be used when the debugger is being used.\n",
            "This may cause the debugger to stop working correctly.\n",
            "If this is needed, please check: \n",
            "http://pydev.blogspot.com/2007/06/why-cant-pydev-debugger-work-with.html\n",
            "to see how to restore the debug tracing back correctly.\n",
            "Call Location:\n",
            "  File \"/usr/local/lib/python3.11/dist-packages/lumibot/tools/decorators.py\", line 28, in call_function_get_frame\n",
            "    sys.settrace(snatch_locals)\n",
            "\n"
          ]
        },
        {
          "output_type": "stream",
          "name": "stdout",
          "text": [
            "2025-02-21 04:22:53,759: root: ERROR: YAHOO did not return data for symbol SPY. Make sure this symbol is valid.\n"
          ]
        },
        {
          "output_type": "stream",
          "name": "stderr",
          "text": [
            "\n",
            "PYDEV DEBUGGER WARNING:\n",
            "sys.settrace() should not be used when the debugger is being used.\n",
            "This may cause the debugger to stop working correctly.\n",
            "If this is needed, please check: \n",
            "http://pydev.blogspot.com/2007/06/why-cant-pydev-debugger-work-with.html\n",
            "to see how to restore the debug tracing back correctly.\n",
            "Call Location:\n",
            "  File \"/usr/local/lib/python3.11/dist-packages/lumibot/tools/decorators.py\", line 32, in call_function_get_frame\n",
            "    sys.settrace(trace)\n",
            "\n"
          ]
        },
        {
          "output_type": "stream",
          "name": "stdout",
          "text": [
            "2025-02-21 04:22:53,761: root: ERROR: unsupported operand type(s) for /: 'float' and 'NoneType'\n",
            "2025-02-21 04:22:53,763: root: ERROR: Traceback (most recent call last):\n",
            "  File \"/usr/local/lib/python3.11/dist-packages/lumibot/strategies/strategy_executor.py\", line 829, in run\n",
            "    self._run_trading_session()\n",
            "  File \"/usr/local/lib/python3.11/dist-packages/lumibot/strategies/strategy_executor.py\", line 780, in _run_trading_session\n",
            "    self._on_trading_iteration()\n",
            "  File \"/usr/local/lib/python3.11/dist-packages/lumibot/strategies/strategy_executor.py\", line 274, in func_output\n",
            "    result = func_input(self, *args, **kwargs)\n",
            "             ^^^^^^^^^^^^^^^^^^^^^^^^^^^^^^^^^\n",
            "  File \"/usr/local/lib/python3.11/dist-packages/lumibot/strategies/strategy_executor.py\", line 298, in func_output\n",
            "    result = func_input(self, *args, **kwargs)\n",
            "             ^^^^^^^^^^^^^^^^^^^^^^^^^^^^^^^^^\n",
            "  File \"/usr/local/lib/python3.11/dist-packages/lumibot/strategies/strategy_executor.py\", line 87, in func_output\n",
            "    return func_input(self, *args, **kwargs)\n",
            "           ^^^^^^^^^^^^^^^^^^^^^^^^^^^^^^^^^\n",
            "  File \"/usr/local/lib/python3.11/dist-packages/lumibot/strategies/strategy_executor.py\", line 378, in _on_trading_iteration\n",
            "    on_trading_iteration()\n",
            "  File \"/usr/local/lib/python3.11/dist-packages/lumibot/tools/decorators.py\", line 62, in func_output\n",
            "    frame, result = call_function_get_frame(func_input, *args, **kwargs)\n",
            "                    ^^^^^^^^^^^^^^^^^^^^^^^^^^^^^^^^^^^^^^^^^^^^^^^^^^^^\n",
            "  File \"/usr/local/lib/python3.11/dist-packages/lumibot/tools/decorators.py\", line 30, in call_function_get_frame\n",
            "    result = func(*args, **kwargs)\n",
            "             ^^^^^^^^^^^^^^^^^^^^^\n",
            "  File \"<ipython-input-6-790e82d8255c>\", line 16, in on_trading_iteration\n",
            "    cash, last_price, quantity = self.position_sizing()\n",
            "                                 ^^^^^^^^^^^^^^^^^^^^^^\n",
            "  File \"<ipython-input-6-790e82d8255c>\", line 11, in position_sizing\n",
            "    quantity = round(cash * self.cash_at_risk / last_price,0)\n",
            "                     ~~~~~~~~~~~~~~~~~~~~~~~~~^~~~~~~~~~~~\n",
            "TypeError: unsupported operand type(s) for /: 'float' and 'NoneType'\n",
            "\n"
          ]
        },
        {
          "output_type": "stream",
          "name": "stderr",
          "text": [
            "Exception in thread MLTrader:\n",
            "Traceback (most recent call last):\n",
            "  File \"/usr/local/lib/python3.11/dist-packages/lumibot/strategies/strategy_executor.py\", line 829, in run\n",
            "    self._run_trading_session()\n",
            "  File \"/usr/local/lib/python3.11/dist-packages/lumibot/strategies/strategy_executor.py\", line 780, in _run_trading_session\n",
            "    self._on_trading_iteration()\n",
            "  File \"/usr/local/lib/python3.11/dist-packages/lumibot/strategies/strategy_executor.py\", line 274, in func_output\n",
            "    result = func_input(self, *args, **kwargs)\n",
            "             ^^^^^^^^^^^^^^^^^^^^^^^^^^^^^^^^^\n",
            "  File \"/usr/local/lib/python3.11/dist-packages/lumibot/strategies/strategy_executor.py\", line 298, in func_output\n",
            "    result = func_input(self, *args, **kwargs)\n",
            "             ^^^^^^^^^^^^^^^^^^^^^^^^^^^^^^^^^\n",
            "  File \"/usr/local/lib/python3.11/dist-packages/lumibot/strategies/strategy_executor.py\", line 87, in func_output\n",
            "    return func_input(self, *args, **kwargs)\n",
            "           ^^^^^^^^^^^^^^^^^^^^^^^^^^^^^^^^^\n",
            "  File \"/usr/local/lib/python3.11/dist-packages/lumibot/strategies/strategy_executor.py\", line 378, in _on_trading_iteration\n",
            "    on_trading_iteration()\n",
            "  File \"/usr/local/lib/python3.11/dist-packages/lumibot/tools/decorators.py\", line 62, in func_output\n",
            "    frame, result = call_function_get_frame(func_input, *args, **kwargs)\n",
            "                    ^^^^^^^^^^^^^^^^^^^^^^^^^^^^^^^^^^^^^^^^^^^^^^^^^^^^\n",
            "  File \"/usr/local/lib/python3.11/dist-packages/lumibot/tools/decorators.py\", line 30, in call_function_get_frame\n",
            "    result = func(*args, **kwargs)\n",
            "             ^^^^^^^^^^^^^^^^^^^^^\n",
            "  File \"<ipython-input-6-790e82d8255c>\", line 16, in on_trading_iteration\n",
            "  File \"<ipython-input-6-790e82d8255c>\", line 11, in position_sizing\n",
            "TypeError: unsupported operand type(s) for /: 'float' and 'NoneType'\n",
            "\n",
            "The above exception was the direct cause of the following exception:\n",
            "\n",
            "Traceback (most recent call last):\n",
            "  File \"/usr/lib/python3.11/threading.py\", line 1045, in _bootstrap_inner\n",
            "    self.run()\n",
            "  File \"/usr/local/lib/python3.11/dist-packages/lumibot/strategies/strategy_executor.py\", line 842, in run\n",
            "    raise RuntimeError(\"Exception encountered, stopping BackTest.\") from e\n",
            "RuntimeError: Exception encountered, stopping BackTest.\n"
          ]
        },
        {
          "output_type": "stream",
          "name": "stdout",
          "text": [
            "\n",
            "Creating indicators plot...\n"
          ]
        },
        {
          "output_type": "execute_result",
          "data": {
            "text/plain": [
              "{}"
            ]
          },
          "metadata": {},
          "execution_count": 6
        }
      ]
    },
    {
      "cell_type": "code",
      "source": [],
      "metadata": {
        "id": "s1a0KHpRo2gm"
      },
      "execution_count": null,
      "outputs": []
    }
  ]
}